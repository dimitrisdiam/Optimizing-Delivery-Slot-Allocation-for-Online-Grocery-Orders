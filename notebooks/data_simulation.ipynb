{
  "nbformat": 4,
  "nbformat_minor": 0,
  "metadata": {
    "colab": {
      "provenance": []
    },
    "kernelspec": {
      "name": "python3",
      "display_name": "Python 3"
    },
    "language_info": {
      "name": "python"
    }
  },
  "cells": [
    {
      "cell_type": "code",
      "execution_count": 12,
      "metadata": {
        "colab": {
          "base_uri": "https://localhost:8080/"
        },
        "id": "Pws4J4jyjHeo",
        "outputId": "622d8fde-227b-4339-f709-008f42f3bba6"
      },
      "outputs": [
        {
          "output_type": "stream",
          "name": "stderr",
          "text": [
            "<ipython-input-12-27a29d81844c>:16: FutureWarning: 'H' is deprecated and will be removed in a future version, please use 'h' instead.\n",
            "  DATE_RANGE = pd.date_range(start=START_DATE, end=END_DATE, freq='H')\n"
          ]
        }
      ],
      "source": [
        "import pandas as pd\n",
        "import numpy as np\n",
        "import random\n",
        "import os\n",
        "\n",
        "\n",
        "# Set seed for reproducibility\n",
        "np.random.seed(42)\n",
        "\n",
        "# Parameters\n",
        "NUM_CUSTOMERS = 500\n",
        "NUM_ORDERS = 3000\n",
        "NUM_PRODUCTS = 100\n",
        "START_DATE = pd.to_datetime(\"2024-01-01\")\n",
        "END_DATE = pd.to_datetime(\"2024-03-31\")\n",
        "DATE_RANGE = pd.date_range(start=START_DATE, end=END_DATE, freq='H')\n",
        "\n"
      ]
    },
    {
      "cell_type": "markdown",
      "source": [
        "# Customers"
      ],
      "metadata": {
        "id": "PMk5a71arxZe"
      }
    },
    {
      "cell_type": "code",
      "source": [
        "# Basic info\n",
        "basic_customers = pd.DataFrame({\n",
        "    \"customer_id\": range(1, NUM_CUSTOMERS + 1),\n",
        "    \"zip_code\": np.random.choice([\"1011\", \"1012\", \"1013\", \"1014\", \"1015\", \"1016\"], size=NUM_CUSTOMERS),\n",
        "    \"city\": np.random.choice([\"Amsterdam\", \"Rotterdam\", \"Utrecht\"], size=NUM_CUSTOMERS)\n",
        "})\n",
        "\n",
        "# Profile info\n",
        "customer_profiles = pd.DataFrame({\n",
        "    \"customer_id\": basic_customers[\"customer_id\"],\n",
        "    \"signup_date\": pd.to_datetime(np.random.choice(pd.date_range(\"2022-01-01\", \"2023-12-31\"), size=NUM_CUSTOMERS)),\n",
        "    \"preferred_slot\": np.random.choice([\"08:00-10:00\", \"10:00-12:00\", \"18:00-20:00\"], size=NUM_CUSTOMERS),\n",
        "    \"loyalty_score\": np.random.normal(loc=3, scale=1, size=NUM_CUSTOMERS).clip(1, 5),\n",
        "    \"has_kids\": np.random.choice([True, False], size=NUM_CUSTOMERS, p=[0.3, 0.7])\n",
        "})\n",
        "\n",
        "# Final customer dataset\n",
        "customers = basic_customers.merge(customer_profiles, on=\"customer_id\")\n",
        "customers.to_csv(\"data/customer_profiles.csv\", index=False)\n"
      ],
      "metadata": {
        "id": "tvCq6Zu8rWkN"
      },
      "execution_count": 13,
      "outputs": []
    },
    {
      "cell_type": "markdown",
      "source": [
        "# Orders"
      ],
      "metadata": {
        "id": "76xKfNnXruJW"
      }
    },
    {
      "cell_type": "code",
      "source": [
        "orders = pd.DataFrame({\n",
        "    \"order_id\": range(1, NUM_ORDERS + 1),\n",
        "    \"customer_id\": np.random.choice(customers[\"customer_id\"], size=NUM_ORDERS),\n",
        "    \"order_timestamp\": np.random.choice(DATE_RANGE, size=NUM_ORDERS)\n",
        "})\n",
        "\n",
        "# Delivery slots\n",
        "slot_hours = list(range(8, 20, 2))\n",
        "orders[\"delivery_slot\"] = orders[\"order_timestamp\"].apply(\n",
        "    lambda x: f\"{random.choice(slot_hours)}:00-{random.choice(slot_hours) + 2}:00\"\n",
        ")\n",
        "\n",
        "# Delivery duration and basket value\n",
        "orders[\"delivery_duration_min\"] = np.random.normal(loc=35, scale=10, size=NUM_ORDERS).clip(15, 90)\n",
        "orders[\"basket_value_eur\"] = np.random.normal(loc=45, scale=15, size=NUM_ORDERS).clip(5, 150)\n",
        "\n",
        "# Add location from customers\n",
        "orders = orders.merge(customers[[\"customer_id\", \"zip_code\", \"city\"]], on=\"customer_id\")\n",
        "orders.to_csv(\"data/orders.csv\", index=False)\n"
      ],
      "metadata": {
        "id": "t2nFzSjLrYSn"
      },
      "execution_count": 14,
      "outputs": []
    },
    {
      "cell_type": "markdown",
      "source": [
        "# Products"
      ],
      "metadata": {
        "id": "4Pwddo6JroQw"
      }
    },
    {
      "cell_type": "code",
      "source": [
        "products = pd.DataFrame({\n",
        "    \"product_id\": range(1, NUM_PRODUCTS + 1),\n",
        "    \"product_name\": [f\"Product_{i}\" for i in range(1, NUM_PRODUCTS + 1)],\n",
        "    \"category\": np.random.choice([\"Fruit\", \"Dairy\", \"Bakery\", \"Meat\", \"Drinks\"], size=NUM_PRODUCTS)\n",
        "})\n",
        "products.to_csv(\"data/products.csv\", index=False)\n",
        "\n"
      ],
      "metadata": {
        "id": "quxapSPorZrM"
      },
      "execution_count": 15,
      "outputs": []
    },
    {
      "cell_type": "markdown",
      "source": [
        "# Product Orders"
      ],
      "metadata": {
        "id": "rPR07h28rlcA"
      }
    },
    {
      "cell_type": "code",
      "source": [
        "product_orders = pd.DataFrame({\n",
        "    \"order_id\": np.random.choice(orders[\"order_id\"], size=6000),\n",
        "    \"product_id\": np.random.choice(products[\"product_id\"], size=6000),\n",
        "    \"quantity\": np.random.randint(1, 5, size=6000),\n",
        "    \"unit_price\": np.random.normal(loc=3.5, scale=1.0, size=6000).clip(0.5, 10)\n",
        "})\n",
        "product_orders.to_csv(\"data/product_orders.csv\", index=False)\n",
        "\n"
      ],
      "metadata": {
        "id": "sBjQcYylrblC"
      },
      "execution_count": 16,
      "outputs": []
    },
    {
      "cell_type": "markdown",
      "source": [
        "# Warehouse Operations"
      ],
      "metadata": {
        "id": "6QL1IZOjrinE"
      }
    },
    {
      "cell_type": "code",
      "source": [
        "warehouse_dates = pd.date_range(start=START_DATE, end=END_DATE)\n",
        "warehouse_operations = pd.DataFrame({\n",
        "    \"date\": warehouse_dates,\n",
        "    \"warehouse_id\": np.random.choice([\"WH1\", \"WH2\", \"WH3\"], size=len(warehouse_dates)),\n",
        "    \"total_orders_processed\": np.random.poisson(lam=120, size=len(warehouse_dates)),\n",
        "    \"avg_packing_time_min\": np.random.normal(loc=5.5, scale=1.0, size=len(warehouse_dates)).clip(2, 10)\n",
        "})\n",
        "warehouse_operations.to_csv(\"data/warehouse_operations.csv\", index=False)"
      ],
      "metadata": {
        "id": "NWB1Pv2OrdNN"
      },
      "execution_count": 20,
      "outputs": []
    }
  ]
}